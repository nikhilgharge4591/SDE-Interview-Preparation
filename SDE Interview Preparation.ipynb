{
 "cells": [
  {
   "cell_type": "code",
   "execution_count": 1,
   "metadata": {},
   "outputs": [],
   "source": [
    "# Interview Preparation - Leetcode and Striver SDE Sheet"
   ]
  },
  {
   "cell_type": "code",
   "execution_count": 22,
   "metadata": {},
   "outputs": [],
   "source": [
    "# Medium Level\n",
    "\n",
    "# Q1. Set matrix Zero's\n",
    "\n",
    "# Description - Given an matrix, if an element in the matrix is 0 then you have to set its entire column and row to 0 \n",
    "# and then return the matrix"
   ]
  },
  {
   "cell_type": "code",
   "execution_count": 3,
   "metadata": {},
   "outputs": [],
   "source": [
    "# Lets identify the logic\n",
    "\n",
    "# Intution - \n",
    "\n",
    "# 1. Create two dummy arrays that would store the index of corresponding rows and columns to be updated  to 0 in main matrix\n",
    "\n",
    "# 2. Iterate through the original array and identify the index for rows and columns to be made 0.\n",
    "\n",
    "# 3. Again iterate through the original matrix and with use of dummy arrays update the respective indexe's to 0.\n"
   ]
  },
  {
   "cell_type": "code",
   "execution_count": 4,
   "metadata": {},
   "outputs": [],
   "source": [
    "# Complexity\n",
    "\n",
    "# Time Complexity - O(M*N)\n",
    "\n",
    "# Space Complexity - O(M + N)\n",
    "\n",
    "# M - No of rows\n",
    "# N - No of columns"
   ]
  },
  {
   "cell_type": "code",
   "execution_count": 23,
   "metadata": {},
   "outputs": [],
   "source": [
    "# Optimized Code\n",
    "\n",
    "def setMatrixZeros(matrix):\n",
    "    \n",
    "    # Identify the rows and columns\n",
    "    \n",
    "    rows = len(matrix)\n",
    "    columns = len(matrix[0])\n",
    "    \n",
    "    # Create dummy array to store rows and columns to be made 0 in original matrix\n",
    "    \n",
    "    dummy1 = [-1] * rows\n",
    "    dummy2 = [-1] * columns\n",
    "    \n",
    "    # Iterate through the array and identify the index\n",
    "    \n",
    "    for i in range(0, rows):\n",
    "        \n",
    "        for j in range(0, columns):\n",
    "            if(matrix[i][j] == 0):\n",
    "                # Update dummy arrays\n",
    "                dummy1[i] = 0\n",
    "                dummy2[j] = 0\n",
    "    \n",
    "    # Again iterate through the array and update original matrix with 0 using dummy array\n",
    "    \n",
    "    for i in range(0, rows):\n",
    "        \n",
    "        for j in range(0, columns):\n",
    "            if(dummy1[i] == 0 or dummy2[j] == 0):\n",
    "                matrix[i][j] = 0\n",
    "                \n",
    "    return matrix\n",
    "            \n",
    "            \n",
    "            \n",
    "            \n",
    "            "
   ]
  },
  {
   "cell_type": "code",
   "execution_count": 24,
   "metadata": {},
   "outputs": [
    {
     "data": {
      "text/plain": [
       "[[1, 0, 1], [0, 0, 0], [1, 0, 1]]"
      ]
     },
     "execution_count": 24,
     "metadata": {},
     "output_type": "execute_result"
    }
   ],
   "source": [
    "mat = [ [1, 1, 1],\n",
    "        [1, 0, 1],\n",
    "        [1, 1, 1]\n",
    "        ]\n",
    "\n",
    "setMatrixZeros(mat)"
   ]
  },
  {
   "cell_type": "code",
   "execution_count": 25,
   "metadata": {},
   "outputs": [],
   "source": [
    "# Interview Question 2\n",
    "\n",
    "# Medium Level\n",
    "\n",
    "# Q2: Kadane's Algorithm"
   ]
  },
  {
   "cell_type": "code",
   "execution_count": 1,
   "metadata": {},
   "outputs": [],
   "source": [
    "# Problem: Given an array, find the largest Contiguous sum present in the array (Kadane's Algorithm)."
   ]
  },
  {
   "cell_type": "code",
   "execution_count": 18,
   "metadata": {},
   "outputs": [],
   "source": [
    "# Intuition: 1. Problem can be solved using DP.\n",
    "\n",
    "# 2. Inorder to identify the maxSum in array, we need to take into consideration two basic formulas.\n",
    "\n",
    "# 3. maxEndingHere = max(maxEndingHere + val, val) and maxSoFar = max(maxSoFar, maxEndingHere)\n",
    "\n",
    "# 4. maxEndingHere - Will provide max value at every iteration for given array whereas maxsSoFar will keep track of max value in the entire array. \n"
   ]
  },
  {
   "cell_type": "code",
   "execution_count": 19,
   "metadata": {},
   "outputs": [],
   "source": [
    "# Optimal Solution\n",
    "\n",
    "def contiguousSum(arr):\n",
    "    \n",
    "    # First Intialize the value's i.e. maxEndingHere and maxSoFar to first instance of array.\n",
    "    \n",
    "    maxEndingHere = arr[0]\n",
    "    maxSoFar = arr[0]\n",
    "    \n",
    "    # Iterate through the entire loop from index 1.....\n",
    "    \n",
    "    for val in arr[1:]:\n",
    "        \n",
    "        # maxEndingHere provide max value at every iteration for given array\n",
    "        maxEndingHere = max(maxEndingHere + val, val)\n",
    "        \n",
    "        # maxsSoFar will keep track of max value in the entire array\n",
    "        maxSoFar = max(maxSoFar, maxEndingHere)\n",
    "        \n",
    "    \n",
    "    return maxSoFar"
   ]
  },
  {
   "cell_type": "code",
   "execution_count": 20,
   "metadata": {},
   "outputs": [
    {
     "data": {
      "text/plain": [
       "6"
      ]
     },
     "execution_count": 20,
     "metadata": {},
     "output_type": "execute_result"
    }
   ],
   "source": [
    "# Lets test the output\n",
    "\n",
    "contiguousSum([4,2,-3,1])"
   ]
  },
  {
   "cell_type": "code",
   "execution_count": null,
   "metadata": {},
   "outputs": [],
   "source": [
    "# Time Complexity - O(N) N - Elements in array\n",
    "\n",
    "# Space complexity - O(1)"
   ]
  }
 ],
 "metadata": {
  "kernelspec": {
   "display_name": "Python 3",
   "language": "python",
   "name": "python3"
  },
  "language_info": {
   "codemirror_mode": {
    "name": "ipython",
    "version": 3
   },
   "file_extension": ".py",
   "mimetype": "text/x-python",
   "name": "python",
   "nbconvert_exporter": "python",
   "pygments_lexer": "ipython3",
   "version": "3.7.6"
  }
 },
 "nbformat": 4,
 "nbformat_minor": 4
}
