{
 "cells": [
  {
   "cell_type": "code",
   "execution_count": 1,
   "metadata": {},
   "outputs": [],
   "source": [
    "# Interview Preparation - Leetcode and Striver SDE Sheet"
   ]
  },
  {
   "cell_type": "code",
   "execution_count": 22,
   "metadata": {},
   "outputs": [],
   "source": [
    "# Medium Level\n",
    "\n",
    "# Q1. Set matrix Zero's\n",
    "\n",
    "# Description - Given an matrix, if an element in the matrix is 0 then you have to set its entire column and row to 0 \n",
    "# and then return the matrix"
   ]
  },
  {
   "cell_type": "code",
   "execution_count": 3,
   "metadata": {},
   "outputs": [],
   "source": [
    "# Lets identify the logic\n",
    "\n",
    "# Intution - \n",
    "\n",
    "# 1. Create two dummy arrays that would store the index of corresponding rows and columns to be updated  to 0 in main matrix\n",
    "\n",
    "# 2. Iterate through the original array and identify the index for rows and columns to be made 0.\n",
    "\n",
    "# 3. Again iterate through the original matrix and with use of dummy arrays update the respective indexe's to 0.\n"
   ]
  },
  {
   "cell_type": "code",
   "execution_count": 4,
   "metadata": {},
   "outputs": [],
   "source": [
    "# Complexity\n",
    "\n",
    "# Time Complexity - O(M*N)\n",
    "\n",
    "# Space Complexity - O(M + N)\n",
    "\n",
    "# M - No of rows\n",
    "# N - No of columns"
   ]
  },
  {
   "cell_type": "code",
   "execution_count": 23,
   "metadata": {},
   "outputs": [],
   "source": [
    "# Optimized Code\n",
    "\n",
    "def setMatrixZeros(matrix):\n",
    "    \n",
    "    # Identify the rows and columns\n",
    "    \n",
    "    rows = len(matrix)\n",
    "    columns = len(matrix[0])\n",
    "    \n",
    "    # Create dummy array to store rows and columns to be made 0 in original matrix\n",
    "    \n",
    "    dummy1 = [-1] * rows\n",
    "    dummy2 = [-1] * columns\n",
    "    \n",
    "    # Iterate through the array and identify the index\n",
    "    \n",
    "    for i in range(0, rows):\n",
    "        \n",
    "        for j in range(0, columns):\n",
    "            if(matrix[i][j] == 0):\n",
    "                # Update dummy arrays\n",
    "                dummy1[i] = 0\n",
    "                dummy2[j] = 0\n",
    "    \n",
    "    # Again iterate through the array and update original matrix with 0 using dummy array\n",
    "    \n",
    "    for i in range(0, rows):\n",
    "        \n",
    "        for j in range(0, columns):\n",
    "            if(dummy1[i] == 0 or dummy2[j] == 0):\n",
    "                matrix[i][j] = 0\n",
    "                \n",
    "    return matrix\n",
    "            \n",
    "            \n",
    "            \n",
    "            \n",
    "            "
   ]
  },
  {
   "cell_type": "code",
   "execution_count": 24,
   "metadata": {},
   "outputs": [
    {
     "data": {
      "text/plain": [
       "[[1, 0, 1], [0, 0, 0], [1, 0, 1]]"
      ]
     },
     "execution_count": 24,
     "metadata": {},
     "output_type": "execute_result"
    }
   ],
   "source": [
    "mat = [ [1, 1, 1],\n",
    "        [1, 0, 1],\n",
    "        [1, 1, 1]\n",
    "        ]\n",
    "\n",
    "setMatrixZeros(mat)"
   ]
  },
  {
   "cell_type": "code",
   "execution_count": 25,
   "metadata": {},
   "outputs": [],
   "source": [
    "# Interview Question 2\n",
    "\n",
    "# Medium Level\n",
    "\n",
    "# Q2: Kadane's Algorithm"
   ]
  },
  {
   "cell_type": "code",
   "execution_count": 1,
   "metadata": {},
   "outputs": [],
   "source": [
    "# Problem: Given an array, find the largest Contiguous sum present in the array (Kadane's Algorithm)."
   ]
  },
  {
   "cell_type": "code",
   "execution_count": 18,
   "metadata": {},
   "outputs": [],
   "source": [
    "# Intuition: 1. Problem can be solved using DP.\n",
    "\n",
    "# 2. Inorder to identify the maxSum in array, we need to take into consideration two basic formulas.\n",
    "\n",
    "# 3. maxEndingHere = max(maxEndingHere + val, val) and maxSoFar = max(maxSoFar, maxEndingHere)\n",
    "\n",
    "# 4. maxEndingHere - Will provide max value at every iteration for given array whereas maxsSoFar will keep track of max value in the entire array. \n"
   ]
  },
  {
   "cell_type": "code",
   "execution_count": 19,
   "metadata": {},
   "outputs": [],
   "source": [
    "# Optimal Solution\n",
    "\n",
    "def contiguousSum(arr):\n",
    "    \n",
    "    # First Intialize the value's i.e. maxEndingHere and maxSoFar to first instance of array.\n",
    "    \n",
    "    maxEndingHere = arr[0]\n",
    "    maxSoFar = arr[0]\n",
    "    \n",
    "    # Iterate through the entire loop from index 1.....\n",
    "    \n",
    "    for val in arr[1:]:\n",
    "        \n",
    "        # maxEndingHere provide max value at every iteration for given array\n",
    "        maxEndingHere = max(maxEndingHere + val, val)\n",
    "        \n",
    "        # maxsSoFar will keep track of max value in the entire array\n",
    "        maxSoFar = max(maxSoFar, maxEndingHere)\n",
    "        \n",
    "    \n",
    "    return maxSoFar"
   ]
  },
  {
   "cell_type": "code",
   "execution_count": 20,
   "metadata": {},
   "outputs": [
    {
     "data": {
      "text/plain": [
       "6"
      ]
     },
     "execution_count": 20,
     "metadata": {},
     "output_type": "execute_result"
    }
   ],
   "source": [
    "# Lets test the output\n",
    "\n",
    "contiguousSum([4,2,-3,1])"
   ]
  },
  {
   "cell_type": "code",
   "execution_count": 21,
   "metadata": {},
   "outputs": [],
   "source": [
    "# Time Complexity - O(N) N - Elements in array\n",
    "\n",
    "# Space complexity - O(1)"
   ]
  },
  {
   "cell_type": "code",
   "execution_count": 2,
   "metadata": {},
   "outputs": [],
   "source": [
    "# Easy level Problems:\n",
    "\n",
    "# Interview Question 3:\n",
    "\n",
    "# Two Sum: Given an array identify the two numbers that add up to the target"
   ]
  },
  {
   "cell_type": "code",
   "execution_count": 3,
   "metadata": {},
   "outputs": [],
   "source": [
    "# Intuition:\n",
    "\n",
    "# 1. Naive Approach - Using two for loops to two find two sums that would add to the target and return the value in form of array.\n",
    "\n",
    "# 2. Optimal Approach would be to use dictionary wherein we can store the difference between the target and current val from array. \n",
    "#    Then for the next iteration if we do find that value in dictionary return both the values in array.\n",
    "\n",
    "# 3. This will happen in O(N) - Time Complexity and O(1) - Space Complexity."
   ]
  },
  {
   "cell_type": "code",
   "execution_count": 9,
   "metadata": {},
   "outputs": [],
   "source": [
    "def twoSum(arr, target):\n",
    "    \n",
    "    \n",
    "    # Initialize the dictionary\n",
    "    numsDict = {}\n",
    "    \n",
    "    for val in arr:\n",
    "        \n",
    "        # Identify the potential target\n",
    "        potentialTarget = target - val\n",
    "        \n",
    "        # Now lets check whether the valye is present in dict\n",
    "        if potentialTarget in numsDict:\n",
    "            return [potentialTarget, val]\n",
    "        else:\n",
    "            numsDict[val] = True\n",
    "    \n",
    "    return []"
   ]
  },
  {
   "cell_type": "code",
   "execution_count": 10,
   "metadata": {},
   "outputs": [
    {
     "data": {
      "text/plain": [
       "[2, 7]"
      ]
     },
     "execution_count": 10,
     "metadata": {},
     "output_type": "execute_result"
    }
   ],
   "source": [
    "twoSum([2,7,1, 10], 9)"
   ]
  },
  {
   "cell_type": "code",
   "execution_count": null,
   "metadata": {},
   "outputs": [],
   "source": [
    "# Time complexity - O(N) N - No of elements in array\n",
    "\n",
    "# Space Complexity - O(1)"
   ]
  },
  {
   "cell_type": "code",
   "execution_count": 22,
   "metadata": {},
   "outputs": [],
   "source": [
    "# Interview Question 4"
   ]
  },
  {
   "cell_type": "code",
   "execution_count": 23,
   "metadata": {},
   "outputs": [],
   "source": [
    "# Problem Statement - Write a function that takes in a BST and a target integer and returns the closet value in BST."
   ]
  },
  {
   "cell_type": "code",
   "execution_count": 24,
   "metadata": {},
   "outputs": [],
   "source": [
    "# Intuition: \n",
    "# 1. Since its BST, we need to keep in mind the BST Property: value of nodes will be less on left side as compared to root node and value of nodes will be greater to right side of root nodes\n",
    "# 2. We can use recursive approach to identify the closet value.\n",
    "# 3. By using recursive approach and BST property we can at evry iteration dissect one half of the tree to identify the closet value.\n",
    "# 4. So lets write the code"
   ]
  },
  {
   "cell_type": "code",
   "execution_count": null,
   "metadata": {},
   "outputs": [],
   "source": [
    "# Tree and target value is provided\n",
    "\n",
    "def findClosetValueBST(tree, target):\n",
    "    return findClosetValueHelper(tree, target, float(\"inf\"))\n",
    "\n",
    "\n",
    "# Here we are using an helper function to identify the the closet value\n",
    "def findClosetValueHelper(tree, target, closet):\n",
    "    \n",
    "    # Base case for recursive function\n",
    "    if tree is None:\n",
    "        return closet\n",
    "    \n",
    "    # Now first find out the difference between target , tree.value and closet. This would be useful to keep track of closet value.\n",
    "    if abs(target - closet) > abs(target - tree.value):\n",
    "        closet = tree.value\n",
    "    \n",
    "    # Now decide which half of the tree we want to traverse, depending upon the current node and target \n",
    "    if tree.value < target:\n",
    "        return findClosetValueHelper(tree.right, target, closet)\n",
    "    elif tree.value > target:\n",
    "        return findClosetValueHelper(tree.left, target, closet)\n",
    "    else:\n",
    "        return closet\n",
    "    \n",
    "# At every instance we are keeping a track of closet value."
   ]
  },
  {
   "cell_type": "code",
   "execution_count": 1,
   "metadata": {},
   "outputs": [],
   "source": [
    "# Time Complexity - Average Case - O(logN)\n",
    "# Space Complexity - Average Case - O(logN)\n",
    "\n",
    "# Time Complexity - Worst Case - O(N)\n",
    "# Space Complexity - Worst Case - O(N)"
   ]
  },
  {
   "cell_type": "code",
   "execution_count": 2,
   "metadata": {},
   "outputs": [],
   "source": [
    "# Interview Question 5:\n",
    "\n",
    "# Given an array of integers nums which is sorted in ascending order, and an integer target, write a function to search target in nums. If target exists, then return its index. Otherwise, return -1."
   ]
  },
  {
   "cell_type": "code",
   "execution_count": 3,
   "metadata": {},
   "outputs": [],
   "source": [
    "# Intuition:\n",
    "\n",
    " # Since the algorithm expects with O(Log N) complexity we can use two pointer approach\n",
    "        \n",
    " # Assign low as 0 and High as Len(array) - 1 respectively. \n",
    "        \n",
    " # Identufy the middle value and compare it with target value. \n",
    "        \n",
    " # If target is less than mid value , increment low pointer since the array is sorted.\n",
    "        \n",
    " # Else decrement high pointer to achieve the desired value.\n",
    "        \n",
    " # Keep doing this until low <= high and target value is achieved.\n",
    "        \n",
    " # If target value is not achieved, return -1"
   ]
  },
  {
   "cell_type": "code",
   "execution_count": 6,
   "metadata": {},
   "outputs": [],
   "source": [
    "# Lets write code\n",
    "\n",
    "def search(nums, target):\n",
    "    \n",
    "    low = 0\n",
    "    high = len(nums) - 1\n",
    "    while low <= high:\n",
    "\n",
    "            mid = (low + high) // 2\n",
    "\n",
    "            guess = nums[mid]\n",
    "            if guess == target:\n",
    "                return mid\n",
    "\n",
    "            elif guess < target:\n",
    "                low = mid + 1\n",
    "\n",
    "            else:\n",
    "                high = mid - 1\n",
    "\n",
    "    return -1 \n",
    "                              \n",
    "                       "
   ]
  },
  {
   "cell_type": "code",
   "execution_count": 7,
   "metadata": {},
   "outputs": [
    {
     "data": {
      "text/plain": [
       "2"
      ]
     },
     "execution_count": 7,
     "metadata": {},
     "output_type": "execute_result"
    }
   ],
   "source": [
    "search([0,1,12,13,14,15,16], 12)"
   ]
  },
  {
   "cell_type": "code",
   "execution_count": null,
   "metadata": {},
   "outputs": [],
   "source": [
    "# Time Complexity - O(Log N)\n",
    "\n",
    "# Space Complexity - O(1)"
   ]
  }
 ],
 "metadata": {
  "kernelspec": {
   "display_name": "Python 3",
   "language": "python",
   "name": "python3"
  },
  "language_info": {
   "codemirror_mode": {
    "name": "ipython",
    "version": 3
   },
   "file_extension": ".py",
   "mimetype": "text/x-python",
   "name": "python",
   "nbconvert_exporter": "python",
   "pygments_lexer": "ipython3",
   "version": "3.7.6"
  }
 },
 "nbformat": 4,
 "nbformat_minor": 4
}
